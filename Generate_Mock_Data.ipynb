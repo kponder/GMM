{
 "metadata": {
  "name": "",
  "signature": "sha256:9f4d88d622d63439e0ac3360e4e599e14a24ffca201861351073a48c9acd27b5"
 },
 "nbformat": 3,
 "nbformat_minor": 0,
 "worksheets": [
  {
   "cells": [
    {
     "cell_type": "code",
     "collapsed": false,
     "input": [
      "%pylab inline\n",
      "import numpy as np\n",
      "import Data_Set_Generator as DSG"
     ],
     "language": "python",
     "metadata": {},
     "outputs": [
      {
       "output_type": "stream",
       "stream": "stdout",
       "text": [
        "Populating the interactive namespace from numpy and matplotlib\n"
       ]
      }
     ],
     "prompt_number": 1
    },
    {
     "cell_type": "code",
     "collapsed": false,
     "input": [
      "#z = np.random.uniform(0.05, 1.5, 50)\n",
      "#print z\n",
      "#z=np.linspace(0.05, 1.5, 50)\n",
      "sigphot = 0.10"
     ],
     "language": "python",
     "metadata": {},
     "outputs": [],
     "prompt_number": 2
    },
    {
     "cell_type": "code",
     "collapsed": false,
     "input": [
      "dM = np.array([0., 0.01,0.02, 0.05, 0.1, 0.2,0.3, 0.4, 0.5])\n",
      "N = np.array([100, 500, 1000, 2500, 10000])\n",
      "\n",
      "for i in range(0, 3, 1):\n",
      "    for k in xrange(len(N)):\n",
      "        for j in xrange(len(dM)):\n",
      "            sig = 0.10\n",
      "            z = np.random.uniform(0.05, 1.5, N[k])\n",
      "            sig1 = numpy.sqrt(sig*sig + sigphot*sigphot)\n",
      "            p = dM[j], sig1, sig1\n",
      "            DSG.mock_data(z, p, N[k], flatten = True,save_flatten = True, series = i)"
     ],
     "language": "python",
     "metadata": {},
     "outputs": [
      {
       "output_type": "stream",
       "stream": "stdout",
       "text": [
        "File saved as:  20150327_flatten_data_100_SNnum_phot01_0_14_14_0_fixed.dat\n",
        "File saved as: "
       ]
      },
      {
       "output_type": "stream",
       "stream": "stdout",
       "text": [
        " 20150327_flatten_data_100_SNnum_phot01_1_14_14_0_fixed.dat\n",
        "File saved as: "
       ]
      },
      {
       "output_type": "stream",
       "stream": "stdout",
       "text": [
        " 20150327_flatten_data_100_SNnum_phot01_2_14_14_0_fixed.dat\n",
        "File saved as: "
       ]
      },
      {
       "output_type": "stream",
       "stream": "stdout",
       "text": [
        " 20150327_flatten_data_100_SNnum_phot01_5_14_14_0_fixed.dat\n",
        "File saved as: "
       ]
      },
      {
       "output_type": "stream",
       "stream": "stdout",
       "text": [
        " 20150327_flatten_data_100_SNnum_phot01_10_14_14_0_fixed.dat\n",
        "File saved as: "
       ]
      },
      {
       "output_type": "stream",
       "stream": "stdout",
       "text": [
        " 20150327_flatten_data_100_SNnum_phot01_20_14_14_0_fixed.dat\n",
        "File saved as: "
       ]
      },
      {
       "output_type": "stream",
       "stream": "stdout",
       "text": [
        " 20150327_flatten_data_100_SNnum_phot01_30_14_14_0_fixed.dat\n",
        "File saved as: "
       ]
      },
      {
       "output_type": "stream",
       "stream": "stdout",
       "text": [
        " 20150327_flatten_data_100_SNnum_phot01_40_14_14_0_fixed.dat\n",
        "File saved as: "
       ]
      },
      {
       "output_type": "stream",
       "stream": "stdout",
       "text": [
        " 20150327_flatten_data_100_SNnum_phot01_50_14_14_0_fixed.dat\n",
        "File saved as: "
       ]
      },
      {
       "output_type": "stream",
       "stream": "stdout",
       "text": [
        " 20150327_flatten_data_500_SNnum_phot01_0_14_14_0_fixed.dat\n",
        "File saved as: "
       ]
      },
      {
       "output_type": "stream",
       "stream": "stdout",
       "text": [
        " 20150327_flatten_data_500_SNnum_phot01_1_14_14_0_fixed.dat\n",
        "File saved as: "
       ]
      },
      {
       "output_type": "stream",
       "stream": "stdout",
       "text": [
        " 20150327_flatten_data_500_SNnum_phot01_2_14_14_0_fixed.dat\n",
        "File saved as: "
       ]
      },
      {
       "output_type": "stream",
       "stream": "stdout",
       "text": [
        " 20150327_flatten_data_500_SNnum_phot01_5_14_14_0_fixed.dat\n",
        "File saved as: "
       ]
      },
      {
       "output_type": "stream",
       "stream": "stdout",
       "text": [
        " 20150327_flatten_data_500_SNnum_phot01_10_14_14_0_fixed.dat\n",
        "File saved as: "
       ]
      },
      {
       "output_type": "stream",
       "stream": "stdout",
       "text": [
        " 20150327_flatten_data_500_SNnum_phot01_20_14_14_0_fixed.dat\n",
        "File saved as: "
       ]
      },
      {
       "output_type": "stream",
       "stream": "stdout",
       "text": [
        " 20150327_flatten_data_500_SNnum_phot01_30_14_14_0_fixed.dat\n",
        "File saved as: "
       ]
      },
      {
       "output_type": "stream",
       "stream": "stdout",
       "text": [
        " 20150327_flatten_data_500_SNnum_phot01_40_14_14_0_fixed.dat\n",
        "File saved as: "
       ]
      },
      {
       "output_type": "stream",
       "stream": "stdout",
       "text": [
        " 20150327_flatten_data_500_SNnum_phot01_50_14_14_0_fixed.dat\n",
        "File saved as: "
       ]
      },
      {
       "output_type": "stream",
       "stream": "stdout",
       "text": [
        " 20150327_flatten_data_1000_SNnum_phot01_0_14_14_0_fixed.dat\n",
        "File saved as: "
       ]
      },
      {
       "output_type": "stream",
       "stream": "stdout",
       "text": [
        " 20150327_flatten_data_1000_SNnum_phot01_1_14_14_0_fixed.dat\n",
        "File saved as: "
       ]
      },
      {
       "output_type": "stream",
       "stream": "stdout",
       "text": [
        " 20150327_flatten_data_1000_SNnum_phot01_2_14_14_0_fixed.dat\n",
        "File saved as: "
       ]
      },
      {
       "output_type": "stream",
       "stream": "stdout",
       "text": [
        " 20150327_flatten_data_1000_SNnum_phot01_5_14_14_0_fixed.dat\n",
        "File saved as: "
       ]
      },
      {
       "output_type": "stream",
       "stream": "stdout",
       "text": [
        " 20150327_flatten_data_1000_SNnum_phot01_10_14_14_0_fixed.dat\n",
        "File saved as: "
       ]
      },
      {
       "output_type": "stream",
       "stream": "stdout",
       "text": [
        " 20150327_flatten_data_1000_SNnum_phot01_20_14_14_0_fixed.dat\n",
        "File saved as: "
       ]
      },
      {
       "output_type": "stream",
       "stream": "stdout",
       "text": [
        " 20150327_flatten_data_1000_SNnum_phot01_30_14_14_0_fixed.dat\n",
        "File saved as: "
       ]
      },
      {
       "output_type": "stream",
       "stream": "stdout",
       "text": [
        " 20150327_flatten_data_1000_SNnum_phot01_40_14_14_0_fixed.dat\n",
        "File saved as: "
       ]
      },
      {
       "output_type": "stream",
       "stream": "stdout",
       "text": [
        " 20150327_flatten_data_1000_SNnum_phot01_50_14_14_0_fixed.dat\n",
        "File saved as: "
       ]
      },
      {
       "output_type": "stream",
       "stream": "stdout",
       "text": [
        " 20150327_flatten_data_2500_SNnum_phot01_0_14_14_0_fixed.dat\n",
        "File saved as: "
       ]
      },
      {
       "output_type": "stream",
       "stream": "stdout",
       "text": [
        " 20150327_flatten_data_2500_SNnum_phot01_1_14_14_0_fixed.dat\n",
        "File saved as: "
       ]
      },
      {
       "output_type": "stream",
       "stream": "stdout",
       "text": [
        " 20150327_flatten_data_2500_SNnum_phot01_2_14_14_0_fixed.dat\n",
        "File saved as: "
       ]
      },
      {
       "output_type": "stream",
       "stream": "stdout",
       "text": [
        " 20150327_flatten_data_2500_SNnum_phot01_5_14_14_0_fixed.dat\n",
        "File saved as: "
       ]
      },
      {
       "output_type": "stream",
       "stream": "stdout",
       "text": [
        " 20150327_flatten_data_2500_SNnum_phot01_10_14_14_0_fixed.dat\n",
        "File saved as: "
       ]
      },
      {
       "output_type": "stream",
       "stream": "stdout",
       "text": [
        " 20150327_flatten_data_2500_SNnum_phot01_20_14_14_0_fixed.dat\n",
        "File saved as: "
       ]
      },
      {
       "output_type": "stream",
       "stream": "stdout",
       "text": [
        " 20150327_flatten_data_2500_SNnum_phot01_30_14_14_0_fixed.dat\n",
        "File saved as: "
       ]
      },
      {
       "output_type": "stream",
       "stream": "stdout",
       "text": [
        " 20150327_flatten_data_2500_SNnum_phot01_40_14_14_0_fixed.dat\n",
        "File saved as: "
       ]
      },
      {
       "output_type": "stream",
       "stream": "stdout",
       "text": [
        " 20150327_flatten_data_2500_SNnum_phot01_50_14_14_0_fixed.dat\n",
        "File saved as: "
       ]
      },
      {
       "output_type": "stream",
       "stream": "stdout",
       "text": [
        " 20150327_flatten_data_10000_SNnum_phot01_0_14_14_0_fixed.dat\n",
        "File saved as: "
       ]
      },
      {
       "output_type": "stream",
       "stream": "stdout",
       "text": [
        " 20150327_flatten_data_10000_SNnum_phot01_1_14_14_0_fixed.dat\n",
        "File saved as: "
       ]
      },
      {
       "output_type": "stream",
       "stream": "stdout",
       "text": [
        " 20150327_flatten_data_10000_SNnum_phot01_2_14_14_0_fixed.dat\n",
        "File saved as: "
       ]
      },
      {
       "output_type": "stream",
       "stream": "stdout",
       "text": [
        " 20150327_flatten_data_10000_SNnum_phot01_5_14_14_0_fixed.dat\n",
        "File saved as: "
       ]
      },
      {
       "output_type": "stream",
       "stream": "stdout",
       "text": [
        " 20150327_flatten_data_10000_SNnum_phot01_10_14_14_0_fixed.dat\n",
        "File saved as: "
       ]
      },
      {
       "output_type": "stream",
       "stream": "stdout",
       "text": [
        " 20150327_flatten_data_10000_SNnum_phot01_20_14_14_0_fixed.dat\n",
        "File saved as: "
       ]
      },
      {
       "output_type": "stream",
       "stream": "stdout",
       "text": [
        " 20150327_flatten_data_10000_SNnum_phot01_30_14_14_0_fixed.dat\n",
        "File saved as: "
       ]
      },
      {
       "output_type": "stream",
       "stream": "stdout",
       "text": [
        " 20150327_flatten_data_10000_SNnum_phot01_40_14_14_0_fixed.dat\n",
        "File saved as: "
       ]
      },
      {
       "output_type": "stream",
       "stream": "stdout",
       "text": [
        " 20150327_flatten_data_10000_SNnum_phot01_50_14_14_0_fixed.dat\n",
        "File saved as: "
       ]
      },
      {
       "output_type": "stream",
       "stream": "stdout",
       "text": [
        " 20150327_flatten_data_100_SNnum_phot01_0_14_14_1_fixed.dat\n",
        "File saved as: "
       ]
      },
      {
       "output_type": "stream",
       "stream": "stdout",
       "text": [
        " 20150327_flatten_data_100_SNnum_phot01_1_14_14_1_fixed.dat\n",
        "File saved as: "
       ]
      },
      {
       "output_type": "stream",
       "stream": "stdout",
       "text": [
        " 20150327_flatten_data_100_SNnum_phot01_2_14_14_1_fixed.dat\n",
        "File saved as: "
       ]
      },
      {
       "output_type": "stream",
       "stream": "stdout",
       "text": [
        " 20150327_flatten_data_100_SNnum_phot01_5_14_14_1_fixed.dat\n",
        "File saved as: "
       ]
      },
      {
       "output_type": "stream",
       "stream": "stdout",
       "text": [
        " 20150327_flatten_data_100_SNnum_phot01_10_14_14_1_fixed.dat\n",
        "File saved as: "
       ]
      },
      {
       "output_type": "stream",
       "stream": "stdout",
       "text": [
        " 20150327_flatten_data_100_SNnum_phot01_20_14_14_1_fixed.dat\n",
        "File saved as: "
       ]
      },
      {
       "output_type": "stream",
       "stream": "stdout",
       "text": [
        " 20150327_flatten_data_100_SNnum_phot01_30_14_14_1_fixed.dat\n",
        "File saved as: "
       ]
      },
      {
       "output_type": "stream",
       "stream": "stdout",
       "text": [
        " 20150327_flatten_data_100_SNnum_phot01_40_14_14_1_fixed.dat\n",
        "File saved as: "
       ]
      },
      {
       "output_type": "stream",
       "stream": "stdout",
       "text": [
        " 20150327_flatten_data_100_SNnum_phot01_50_14_14_1_fixed.dat\n",
        "File saved as: "
       ]
      },
      {
       "output_type": "stream",
       "stream": "stdout",
       "text": [
        " 20150327_flatten_data_500_SNnum_phot01_0_14_14_1_fixed.dat\n",
        "File saved as: "
       ]
      },
      {
       "output_type": "stream",
       "stream": "stdout",
       "text": [
        " 20150327_flatten_data_500_SNnum_phot01_1_14_14_1_fixed.dat\n",
        "File saved as: "
       ]
      },
      {
       "output_type": "stream",
       "stream": "stdout",
       "text": [
        " 20150327_flatten_data_500_SNnum_phot01_2_14_14_1_fixed.dat\n",
        "File saved as: "
       ]
      },
      {
       "output_type": "stream",
       "stream": "stdout",
       "text": [
        " 20150327_flatten_data_500_SNnum_phot01_5_14_14_1_fixed.dat\n",
        "File saved as: "
       ]
      },
      {
       "output_type": "stream",
       "stream": "stdout",
       "text": [
        " 20150327_flatten_data_500_SNnum_phot01_10_14_14_1_fixed.dat\n",
        "File saved as: "
       ]
      },
      {
       "output_type": "stream",
       "stream": "stdout",
       "text": [
        " 20150327_flatten_data_500_SNnum_phot01_20_14_14_1_fixed.dat\n",
        "File saved as: "
       ]
      },
      {
       "output_type": "stream",
       "stream": "stdout",
       "text": [
        " 20150327_flatten_data_500_SNnum_phot01_30_14_14_1_fixed.dat\n",
        "File saved as: "
       ]
      },
      {
       "output_type": "stream",
       "stream": "stdout",
       "text": [
        " 20150327_flatten_data_500_SNnum_phot01_40_14_14_1_fixed.dat\n",
        "File saved as: "
       ]
      },
      {
       "output_type": "stream",
       "stream": "stdout",
       "text": [
        " 20150327_flatten_data_500_SNnum_phot01_50_14_14_1_fixed.dat\n",
        "File saved as: "
       ]
      },
      {
       "output_type": "stream",
       "stream": "stdout",
       "text": [
        " 20150327_flatten_data_1000_SNnum_phot01_0_14_14_1_fixed.dat\n",
        "File saved as: "
       ]
      },
      {
       "output_type": "stream",
       "stream": "stdout",
       "text": [
        " 20150327_flatten_data_1000_SNnum_phot01_1_14_14_1_fixed.dat\n",
        "File saved as: "
       ]
      },
      {
       "output_type": "stream",
       "stream": "stdout",
       "text": [
        " 20150327_flatten_data_1000_SNnum_phot01_2_14_14_1_fixed.dat\n",
        "File saved as: "
       ]
      },
      {
       "output_type": "stream",
       "stream": "stdout",
       "text": [
        " 20150327_flatten_data_1000_SNnum_phot01_5_14_14_1_fixed.dat\n",
        "File saved as: "
       ]
      },
      {
       "output_type": "stream",
       "stream": "stdout",
       "text": [
        " 20150327_flatten_data_1000_SNnum_phot01_10_14_14_1_fixed.dat\n",
        "File saved as: "
       ]
      },
      {
       "output_type": "stream",
       "stream": "stdout",
       "text": [
        " 20150327_flatten_data_1000_SNnum_phot01_20_14_14_1_fixed.dat\n",
        "File saved as: "
       ]
      },
      {
       "output_type": "stream",
       "stream": "stdout",
       "text": [
        " 20150327_flatten_data_1000_SNnum_phot01_30_14_14_1_fixed.dat\n",
        "File saved as: "
       ]
      },
      {
       "output_type": "stream",
       "stream": "stdout",
       "text": [
        " 20150327_flatten_data_1000_SNnum_phot01_40_14_14_1_fixed.dat\n",
        "File saved as: "
       ]
      },
      {
       "output_type": "stream",
       "stream": "stdout",
       "text": [
        " 20150327_flatten_data_1000_SNnum_phot01_50_14_14_1_fixed.dat\n",
        "File saved as: "
       ]
      },
      {
       "output_type": "stream",
       "stream": "stdout",
       "text": [
        " 20150327_flatten_data_2500_SNnum_phot01_0_14_14_1_fixed.dat\n",
        "File saved as: "
       ]
      },
      {
       "output_type": "stream",
       "stream": "stdout",
       "text": [
        " 20150327_flatten_data_2500_SNnum_phot01_1_14_14_1_fixed.dat\n",
        "File saved as: "
       ]
      },
      {
       "output_type": "stream",
       "stream": "stdout",
       "text": [
        " 20150327_flatten_data_2500_SNnum_phot01_2_14_14_1_fixed.dat\n",
        "File saved as: "
       ]
      },
      {
       "output_type": "stream",
       "stream": "stdout",
       "text": [
        " 20150327_flatten_data_2500_SNnum_phot01_5_14_14_1_fixed.dat\n",
        "File saved as: "
       ]
      },
      {
       "output_type": "stream",
       "stream": "stdout",
       "text": [
        " 20150327_flatten_data_2500_SNnum_phot01_10_14_14_1_fixed.dat\n",
        "File saved as: "
       ]
      },
      {
       "output_type": "stream",
       "stream": "stdout",
       "text": [
        " 20150327_flatten_data_2500_SNnum_phot01_20_14_14_1_fixed.dat\n",
        "File saved as: "
       ]
      },
      {
       "output_type": "stream",
       "stream": "stdout",
       "text": [
        " 20150327_flatten_data_2500_SNnum_phot01_30_14_14_1_fixed.dat\n",
        "File saved as: "
       ]
      },
      {
       "output_type": "stream",
       "stream": "stdout",
       "text": [
        " 20150327_flatten_data_2500_SNnum_phot01_40_14_14_1_fixed.dat\n",
        "File saved as: "
       ]
      },
      {
       "output_type": "stream",
       "stream": "stdout",
       "text": [
        " 20150327_flatten_data_2500_SNnum_phot01_50_14_14_1_fixed.dat\n",
        "File saved as: "
       ]
      },
      {
       "output_type": "stream",
       "stream": "stdout",
       "text": [
        " 20150327_flatten_data_10000_SNnum_phot01_0_14_14_1_fixed.dat\n",
        "File saved as: "
       ]
      },
      {
       "output_type": "stream",
       "stream": "stdout",
       "text": [
        " 20150327_flatten_data_10000_SNnum_phot01_1_14_14_1_fixed.dat\n",
        "File saved as: "
       ]
      },
      {
       "output_type": "stream",
       "stream": "stdout",
       "text": [
        " 20150327_flatten_data_10000_SNnum_phot01_2_14_14_1_fixed.dat\n",
        "File saved as: "
       ]
      },
      {
       "output_type": "stream",
       "stream": "stdout",
       "text": [
        " 20150327_flatten_data_10000_SNnum_phot01_5_14_14_1_fixed.dat\n",
        "File saved as: "
       ]
      },
      {
       "output_type": "stream",
       "stream": "stdout",
       "text": [
        " 20150327_flatten_data_10000_SNnum_phot01_10_14_14_1_fixed.dat\n",
        "File saved as: "
       ]
      },
      {
       "output_type": "stream",
       "stream": "stdout",
       "text": [
        " 20150327_flatten_data_10000_SNnum_phot01_20_14_14_1_fixed.dat\n",
        "File saved as: "
       ]
      },
      {
       "output_type": "stream",
       "stream": "stdout",
       "text": [
        " 20150327_flatten_data_10000_SNnum_phot01_30_14_14_1_fixed.dat\n",
        "File saved as: "
       ]
      },
      {
       "output_type": "stream",
       "stream": "stdout",
       "text": [
        " 20150327_flatten_data_10000_SNnum_phot01_40_14_14_1_fixed.dat\n",
        "File saved as: "
       ]
      },
      {
       "output_type": "stream",
       "stream": "stdout",
       "text": [
        " 20150327_flatten_data_10000_SNnum_phot01_50_14_14_1_fixed.dat\n",
        "File saved as: "
       ]
      },
      {
       "output_type": "stream",
       "stream": "stdout",
       "text": [
        " 20150327_flatten_data_100_SNnum_phot01_0_14_14_2_fixed.dat\n",
        "File saved as: "
       ]
      },
      {
       "output_type": "stream",
       "stream": "stdout",
       "text": [
        " 20150327_flatten_data_100_SNnum_phot01_1_14_14_2_fixed.dat\n",
        "File saved as: "
       ]
      },
      {
       "output_type": "stream",
       "stream": "stdout",
       "text": [
        " 20150327_flatten_data_100_SNnum_phot01_2_14_14_2_fixed.dat\n",
        "File saved as: "
       ]
      },
      {
       "output_type": "stream",
       "stream": "stdout",
       "text": [
        " 20150327_flatten_data_100_SNnum_phot01_5_14_14_2_fixed.dat\n",
        "File saved as: "
       ]
      },
      {
       "output_type": "stream",
       "stream": "stdout",
       "text": [
        " 20150327_flatten_data_100_SNnum_phot01_10_14_14_2_fixed.dat\n",
        "File saved as: "
       ]
      },
      {
       "output_type": "stream",
       "stream": "stdout",
       "text": [
        " 20150327_flatten_data_100_SNnum_phot01_20_14_14_2_fixed.dat\n",
        "File saved as: "
       ]
      },
      {
       "output_type": "stream",
       "stream": "stdout",
       "text": [
        " 20150327_flatten_data_100_SNnum_phot01_30_14_14_2_fixed.dat\n",
        "File saved as: "
       ]
      },
      {
       "output_type": "stream",
       "stream": "stdout",
       "text": [
        " 20150327_flatten_data_100_SNnum_phot01_40_14_14_2_fixed.dat\n",
        "File saved as: "
       ]
      },
      {
       "output_type": "stream",
       "stream": "stdout",
       "text": [
        " 20150327_flatten_data_100_SNnum_phot01_50_14_14_2_fixed.dat\n",
        "File saved as: "
       ]
      },
      {
       "output_type": "stream",
       "stream": "stdout",
       "text": [
        " 20150327_flatten_data_500_SNnum_phot01_0_14_14_2_fixed.dat\n",
        "File saved as: "
       ]
      },
      {
       "output_type": "stream",
       "stream": "stdout",
       "text": [
        " 20150327_flatten_data_500_SNnum_phot01_1_14_14_2_fixed.dat\n",
        "File saved as: "
       ]
      },
      {
       "output_type": "stream",
       "stream": "stdout",
       "text": [
        " 20150327_flatten_data_500_SNnum_phot01_2_14_14_2_fixed.dat\n",
        "File saved as: "
       ]
      },
      {
       "output_type": "stream",
       "stream": "stdout",
       "text": [
        " 20150327_flatten_data_500_SNnum_phot01_5_14_14_2_fixed.dat\n",
        "File saved as: "
       ]
      },
      {
       "output_type": "stream",
       "stream": "stdout",
       "text": [
        " 20150327_flatten_data_500_SNnum_phot01_10_14_14_2_fixed.dat\n",
        "File saved as: "
       ]
      },
      {
       "output_type": "stream",
       "stream": "stdout",
       "text": [
        " 20150327_flatten_data_500_SNnum_phot01_20_14_14_2_fixed.dat\n",
        "File saved as: "
       ]
      },
      {
       "output_type": "stream",
       "stream": "stdout",
       "text": [
        " 20150327_flatten_data_500_SNnum_phot01_30_14_14_2_fixed.dat\n",
        "File saved as: "
       ]
      },
      {
       "output_type": "stream",
       "stream": "stdout",
       "text": [
        " 20150327_flatten_data_500_SNnum_phot01_40_14_14_2_fixed.dat\n",
        "File saved as: "
       ]
      },
      {
       "output_type": "stream",
       "stream": "stdout",
       "text": [
        " 20150327_flatten_data_500_SNnum_phot01_50_14_14_2_fixed.dat\n",
        "File saved as: "
       ]
      },
      {
       "output_type": "stream",
       "stream": "stdout",
       "text": [
        " 20150327_flatten_data_1000_SNnum_phot01_0_14_14_2_fixed.dat\n",
        "File saved as: "
       ]
      },
      {
       "output_type": "stream",
       "stream": "stdout",
       "text": [
        " 20150327_flatten_data_1000_SNnum_phot01_1_14_14_2_fixed.dat\n",
        "File saved as: "
       ]
      },
      {
       "output_type": "stream",
       "stream": "stdout",
       "text": [
        " 20150327_flatten_data_1000_SNnum_phot01_2_14_14_2_fixed.dat\n",
        "File saved as: "
       ]
      },
      {
       "output_type": "stream",
       "stream": "stdout",
       "text": [
        " 20150327_flatten_data_1000_SNnum_phot01_5_14_14_2_fixed.dat\n",
        "File saved as: "
       ]
      },
      {
       "output_type": "stream",
       "stream": "stdout",
       "text": [
        " 20150327_flatten_data_1000_SNnum_phot01_10_14_14_2_fixed.dat\n",
        "File saved as: "
       ]
      },
      {
       "output_type": "stream",
       "stream": "stdout",
       "text": [
        " 20150327_flatten_data_1000_SNnum_phot01_20_14_14_2_fixed.dat\n",
        "File saved as: "
       ]
      },
      {
       "output_type": "stream",
       "stream": "stdout",
       "text": [
        " 20150327_flatten_data_1000_SNnum_phot01_30_14_14_2_fixed.dat\n",
        "File saved as: "
       ]
      },
      {
       "output_type": "stream",
       "stream": "stdout",
       "text": [
        " 20150327_flatten_data_1000_SNnum_phot01_40_14_14_2_fixed.dat\n",
        "File saved as: "
       ]
      },
      {
       "output_type": "stream",
       "stream": "stdout",
       "text": [
        " 20150327_flatten_data_1000_SNnum_phot01_50_14_14_2_fixed.dat\n",
        "File saved as: "
       ]
      },
      {
       "output_type": "stream",
       "stream": "stdout",
       "text": [
        " 20150327_flatten_data_2500_SNnum_phot01_0_14_14_2_fixed.dat\n",
        "File saved as: "
       ]
      },
      {
       "output_type": "stream",
       "stream": "stdout",
       "text": [
        " 20150327_flatten_data_2500_SNnum_phot01_1_14_14_2_fixed.dat\n",
        "File saved as: "
       ]
      },
      {
       "output_type": "stream",
       "stream": "stdout",
       "text": [
        " 20150327_flatten_data_2500_SNnum_phot01_2_14_14_2_fixed.dat\n",
        "File saved as: "
       ]
      },
      {
       "output_type": "stream",
       "stream": "stdout",
       "text": [
        " 20150327_flatten_data_2500_SNnum_phot01_5_14_14_2_fixed.dat\n",
        "File saved as: "
       ]
      },
      {
       "output_type": "stream",
       "stream": "stdout",
       "text": [
        " 20150327_flatten_data_2500_SNnum_phot01_10_14_14_2_fixed.dat\n",
        "File saved as: "
       ]
      },
      {
       "output_type": "stream",
       "stream": "stdout",
       "text": [
        " 20150327_flatten_data_2500_SNnum_phot01_20_14_14_2_fixed.dat\n",
        "File saved as: "
       ]
      },
      {
       "output_type": "stream",
       "stream": "stdout",
       "text": [
        " 20150327_flatten_data_2500_SNnum_phot01_30_14_14_2_fixed.dat\n",
        "File saved as: "
       ]
      },
      {
       "output_type": "stream",
       "stream": "stdout",
       "text": [
        " 20150327_flatten_data_2500_SNnum_phot01_40_14_14_2_fixed.dat\n",
        "File saved as: "
       ]
      },
      {
       "output_type": "stream",
       "stream": "stdout",
       "text": [
        " 20150327_flatten_data_2500_SNnum_phot01_50_14_14_2_fixed.dat\n",
        "File saved as: "
       ]
      },
      {
       "output_type": "stream",
       "stream": "stdout",
       "text": [
        " 20150327_flatten_data_10000_SNnum_phot01_0_14_14_2_fixed.dat\n",
        "File saved as: "
       ]
      },
      {
       "output_type": "stream",
       "stream": "stdout",
       "text": [
        " 20150327_flatten_data_10000_SNnum_phot01_1_14_14_2_fixed.dat\n",
        "File saved as: "
       ]
      },
      {
       "output_type": "stream",
       "stream": "stdout",
       "text": [
        " 20150327_flatten_data_10000_SNnum_phot01_2_14_14_2_fixed.dat\n",
        "File saved as: "
       ]
      },
      {
       "output_type": "stream",
       "stream": "stdout",
       "text": [
        " 20150327_flatten_data_10000_SNnum_phot01_5_14_14_2_fixed.dat\n",
        "File saved as: "
       ]
      },
      {
       "output_type": "stream",
       "stream": "stdout",
       "text": [
        " 20150327_flatten_data_10000_SNnum_phot01_10_14_14_2_fixed.dat\n",
        "File saved as: "
       ]
      },
      {
       "output_type": "stream",
       "stream": "stdout",
       "text": [
        " 20150327_flatten_data_10000_SNnum_phot01_20_14_14_2_fixed.dat\n",
        "File saved as: "
       ]
      },
      {
       "output_type": "stream",
       "stream": "stdout",
       "text": [
        " 20150327_flatten_data_10000_SNnum_phot01_30_14_14_2_fixed.dat\n",
        "File saved as: "
       ]
      },
      {
       "output_type": "stream",
       "stream": "stdout",
       "text": [
        " 20150327_flatten_data_10000_SNnum_phot01_40_14_14_2_fixed.dat\n",
        "File saved as: "
       ]
      },
      {
       "output_type": "stream",
       "stream": "stdout",
       "text": [
        " 20150327_flatten_data_10000_SNnum_phot01_50_14_14_2_fixed.dat\n"
       ]
      }
     ],
     "prompt_number": 3
    },
    {
     "cell_type": "code",
     "collapsed": false,
     "input": [
      "\n"
     ],
     "language": "python",
     "metadata": {},
     "outputs": [],
     "prompt_number": 3
    },
    {
     "cell_type": "code",
     "collapsed": false,
     "input": [
      "def randomvariate(pdf, p, n=1000, xmin=0, xmax=1):\n",
      "    #mu_A, sig_A, mu_B, sig_B = p\n",
      "    shift_M, sig_A, sig_B = p\n",
      "    x=np.linspace(xmin, xmax, 1000)\n",
      "    #print x\n",
      "    pmin= pdf(x, p).min()\n",
      "    pmax= pdf(x, p).max()\n",
      "    pinter = (pmin + pmax) * 0.5 #+ (pmin + pmax) * 0.25 +  (pmin + pmax) * 0.125\n",
      "    print 'min, max, inter', (pmin, pmax, pinter)\n",
      "    naccept = 0\n",
      "    ntrial = 0\n",
      "    ran=[]\n",
      "    while naccept < n:\n",
      "        x=np.random.uniform(xmin,xmax)\n",
      "        y=np.random.uniform(pinter, pmax)\n",
      "        print 'random M, prob', (x, y)\n",
      "        print 'prob', pdf(x, p)\n",
      "        #y=np.random.uniform(pmin, pmax)\n",
      "        if y < pdf(x, p):\n",
      "            ran.append(x)\n",
      "            naccept=naccept+1\n",
      "        ntrial=ntrial+1\n",
      "    ran=np.asarray(ran)\n",
      "    \n",
      "    return ran, ntrial"
     ],
     "language": "python",
     "metadata": {},
     "outputs": [],
     "prompt_number": 20
    },
    {
     "cell_type": "code",
     "collapsed": false,
     "input": [
      "M_ave = -19.5\n",
      "def GMM(x, p):\n",
      "    shift_M, sig_A, sig_B = p\n",
      "    mu_A= M_ave + shift_M/2.0  # Mean for distribution A\n",
      "    mu_B= M_ave - shift_M/2.0  # Mean for distribution B\n",
      "    p_A = np.sqrt(2*np.pi*sig_A**2)**(-1.0)*np.exp(-(x-mu_A)**2/(2*sig_A**2)) ##sig**2=variance\n",
      "    p_B = np.sqrt(2*np.pi*sig_B**2)**(-1.0)*np.exp(-(x-mu_B)**2/(2*sig_B**2))\n",
      "    return (DSG.n_A(0.08)*p_A + (1-DSG.n_A(0.08)) * p_B)#/(p_A + weight * p_B).sum()\n",
      "p = 0.5, 0.14, 0.14\n",
      "#M,trials = \n"
     ],
     "language": "python",
     "metadata": {},
     "outputs": [],
     "prompt_number": 25
    },
    {
     "cell_type": "code",
     "collapsed": false,
     "input": [
      "stuff = randomvariate( GMM, p, n=1, xmin = M_ave - 2.0, xmax = M_ave + 2.0)"
     ],
     "language": "python",
     "metadata": {},
     "outputs": [
      {
       "output_type": "stream",
       "stream": "stdout",
       "text": [
        "min, max, inter (1.5769800799289831e-35, 2.715816468427779, 1.3579082342138895)\n",
        "random M, prob (-19.781424624679715, 2.30913092818488)\n",
        "prob 0.132678366799\n",
        "random M, prob (-20.366425777828347, 1.9602353803271602)\n",
        "prob 8.26605831608e-06\n",
        "random M, prob (-18.959382536611308, 1.49772715055857)\n",
        "prob 0.314886552801\n",
        "random M, prob (-18.517905358133103, 1.8610571853861226)\n",
        "prob 3.13305032717e-06\n",
        "random M, prob (-18.073381694209964, 2.5004920666129973)\n",
        "prob 1.2469233742e-15\n",
        "random M, prob (-17.99376743800156, 2.173443063591492)\n",
        "prob 8.91177073373e-18\n",
        "random M, prob (-20.573913803681943, 2.4576081425490575)\n",
        "prob 4.0394417671e-09\n",
        "random M, prob (-20.468869217835366, 2.6312605329110808)\n",
        "prob 2.52223545716e-07\n",
        "random M, prob (-19.98879820509944, 1.4795068666119076)\n",
        "prob 0.0312855969968\n",
        "random M, prob (-20.702383952290123, 2.397353473281135)\n",
        "prob 1.19699778066e-11\n",
        "random M, prob (-20.616325454678666, 1.9210899858901969)\n",
        "prob 6.48810988861e-10\n",
        "random M, prob (-18.928624807177258, 2.096276228669368)\n",
        "prob 0.194809265531\n",
        "random M, prob (-20.186979926862463, 1.491179128185927)\n",
        "prob 0.00102693493272\n",
        "random M, prob (-20.131280598631037, 2.2283707333888803)\n",
        "prob 0.00328460867047\n",
        "random M, prob (-20.10778040781927, 1.4898350583428999)\n",
        "prob 0.00511569024633\n",
        "random M, prob (-21.227485642939012, 1.411599109454198)\n",
        "prob 8.75297076232e-26\n",
        "random M, prob (-20.868120207566196, 2.6385182864253185)\n",
        "prob 1.88916774125e-15\n",
        "random M, prob (-21.27831257692859, 1.4886609531570878)\n",
        "prob 1.77649775214e-27\n",
        "random M, prob (-20.855085756305833, 2.3757027462695213)\n",
        "prob 3.9565718643e-15\n",
        "random M, prob (-18.264209911828566, 1.931566680596978)\n",
        "prob 4.65102350264e-11\n",
        "random M, prob (-21.41497324736594, 2.255186017950922)\n",
        "prob 2.59867962059e-32\n",
        "random M, prob (-17.82195789229267, 1.5372513916526538)\n",
        "prob 6.9268153919e-23\n",
        "random M, prob (-18.811770981573673, 2.1583698984885675)\n",
        "prob 0.0202401329153\n",
        "random M, prob (-18.519008224588045, 2.4563012670745676)\n",
        "prob 3.26470712827e-06\n",
        "random M, prob (-18.183058476642046, 1.8833594078232132)\n",
        "prob 6.63735609397e-13\n",
        "random M, prob (-19.081629921364755, 1.4563391647131596)\n",
        "prob 1.31763237209\n",
        "random M, prob (-19.154896865555557, 2.0654254095435824)\n",
        "prob 2.15607315341\n"
       ]
      }
     ],
     "prompt_number": 28
    },
    {
     "cell_type": "code",
     "collapsed": false,
     "input": [
      "print stuff"
     ],
     "language": "python",
     "metadata": {},
     "outputs": [
      {
       "output_type": "stream",
       "stream": "stdout",
       "text": [
        "(array([-19.15489687]), 27)\n"
       ]
      }
     ],
     "prompt_number": 29
    },
    {
     "cell_type": "code",
     "collapsed": false,
     "input": [],
     "language": "python",
     "metadata": {},
     "outputs": []
    }
   ],
   "metadata": {}
  }
 ]
}